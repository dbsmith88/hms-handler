{
 "cells": [
  {
   "cell_type": "code",
   "execution_count": 1,
   "metadata": {},
   "outputs": [],
   "source": [
    "from cn_correct import MultiCorrectionTool as MCT\n",
    "import numpy as np"
   ]
  },
  {
   "cell_type": "code",
   "execution_count": 2,
   "metadata": {},
   "outputs": [],
   "source": [
    "l1_list=np.linspace(1,9,10)**2\n",
    "l1_list=list(1-l1_list/(max(l1_list)+1))\n",
    "model_spec_list=[\n",
    "    {'elastic-net':{\n",
    "        'l1_ratio':l1_list,#list(1-np.logspace(-2,-.03,7)),\n",
    "        'inner_cv':{'n_repeats':2,'n_splits':10,'n_jobs':1},\n",
    "        'max_poly_deg':5,'fit_intercept':False}\n",
    "        },\n",
    "    {'lasso':{'inner_cv':{'n_repeats':2,'n_splits':10,'n_jobs':1},\n",
    "              'max_poly_deg':5,'fit_intercept':False,\n",
    "             'n_alphas':200\n",
    "             }\n",
    "        },\n",
    "    {'lin-reg':{'inner_cv':{'n_repeats':2,'n_splits':10,'n_jobs':1},\n",
    "                'max_poly_deg':5,'fit_intercept':False}},\n",
    "    {'gbr':{\n",
    "        'kwargs':{},\n",
    "        'inner_cv':{'n_repeats':2,'n_splits':10,'n_jobs':1},\n",
    "        'param_grid':{\n",
    "            'ccp_alpha':[0.001,0.005,0.01],\n",
    "            'n_estimators':[200],\n",
    "            'learning_rate':[0.05,0.025],\n",
    "            'subsample':[0.7],'max_depth':[3]}#these pass through to sklearn's gbr\n",
    "            }\n",
    "        },\n",
    "    ]\n",
    "model_spec_dict={}\n",
    "for dict_i in model_spec_list:\n",
    "    for key,val in dict_i.items():\n",
    "        model_spec_dict[key]=val\n",
    "        "
   ]
  },
  {
   "cell_type": "code",
   "execution_count": 5,
   "metadata": {},
   "outputs": [
    {
     "data": {
      "text/plain": [
       "{'elastic-net': {'l1_ratio': [0.9878048780487805,\n",
       "   0.9564890093345378,\n",
       "   0.9059018367961458,\n",
       "   0.8360433604336044,\n",
       "   0.7469135802469136,\n",
       "   0.6385124962360734,\n",
       "   0.5108401084010841,\n",
       "   0.3638964167419454,\n",
       "   0.19768142125865718,\n",
       "   0.012195121951219523],\n",
       "  'inner_cv': {'n_repeats': 2, 'n_splits': 10, 'n_jobs': 1},\n",
       "  'max_poly_deg': 5,\n",
       "  'fit_intercept': False},\n",
       " 'lasso': {'inner_cv': {'n_repeats': 2, 'n_splits': 10, 'n_jobs': 1},\n",
       "  'max_poly_deg': 5,\n",
       "  'fit_intercept': False,\n",
       "  'n_alphas': 200},\n",
       " 'lin-reg': {'inner_cv': {'n_repeats': 2, 'n_splits': 10, 'n_jobs': 1},\n",
       "  'max_poly_deg': 5,\n",
       "  'fit_intercept': False},\n",
       " 'gbr': {'kwargs': {},\n",
       "  'inner_cv': {'n_repeats': 2, 'n_splits': 10, 'n_jobs': 1},\n",
       "  'param_grid': {'ccp_alpha': [0.001, 0.005, 0.01],\n",
       "   'n_estimators': [200],\n",
       "   'learning_rate': [0.05, 0.025],\n",
       "   'subsample': [0.7],\n",
       "   'max_depth': [3]}}}"
      ]
     },
     "execution_count": 5,
     "metadata": {},
     "output_type": "execute_result"
    }
   ],
   "source": [
    "model_spec_dict"
   ]
  },
  {
   "cell_type": "code",
   "execution_count": 4,
   "metadata": {},
   "outputs": [],
   "source": [
    "mct=MCT(model_specs=model_spec_dict)"
   ]
  },
  {
   "cell_type": "code",
   "execution_count": 8,
   "metadata": {},
   "outputs": [
    {
     "data": {
      "text/plain": [
       "True"
      ]
     },
     "execution_count": 8,
     "metadata": {},
     "output_type": "execute_result"
    }
   ],
   "source": []
  },
  {
   "cell_type": "code",
   "execution_count": null,
   "metadata": {},
   "outputs": [],
   "source": []
  }
 ],
 "metadata": {
  "kernelspec": {
   "display_name": "Python 3",
   "language": "python",
   "name": "python3"
  },
  "language_info": {
   "codemirror_mode": {
    "name": "ipython",
    "version": 3
   },
   "file_extension": ".py",
   "mimetype": "text/x-python",
   "name": "python",
   "nbconvert_exporter": "python",
   "pygments_lexer": "ipython3",
   "version": "3.8.6"
  }
 },
 "nbformat": 4,
 "nbformat_minor": 4
}
