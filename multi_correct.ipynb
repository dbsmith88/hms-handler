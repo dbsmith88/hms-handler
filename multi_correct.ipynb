{
 "cells": [
  {
   "cell_type": "code",
   "execution_count": 1,
   "metadata": {},
   "outputs": [
    {
     "data": {
      "text/plain": [
       "'/home/dp/gits/hms-handler'"
      ]
     },
     "execution_count": 1,
     "metadata": {},
     "output_type": "execute_result"
    }
   ],
   "source": [
    "import os;os.getcwd()"
   ]
  },
  {
   "cell_type": "code",
   "execution_count": 2,
   "metadata": {},
   "outputs": [
    {
     "ename": "SyntaxError",
     "evalue": "invalid syntax (cn_correct.py, line 780)",
     "output_type": "error",
     "traceback": [
      "Traceback \u001b[0;36m(most recent call last)\u001b[0m:\n",
      "  File \u001b[1;32m\"/home/dp/miniconda3/envs/hms/lib/python3.8/site-packages/IPython/core/interactiveshell.py\"\u001b[0m, line \u001b[1;32m3418\u001b[0m, in \u001b[1;35mrun_code\u001b[0m\n    exec(code_obj, self.user_global_ns, self.user_ns)\n",
      "\u001b[0;36m  File \u001b[0;32m\"<ipython-input-2-d8ba0b0938c4>\"\u001b[0;36m, line \u001b[0;32m1\u001b[0;36m, in \u001b[0;35m<module>\u001b[0;36m\u001b[0m\n\u001b[0;31m    from cn_correct import MultiCorrectionTool as MCT\u001b[0m\n",
      "\u001b[0;36m  File \u001b[0;32m\"/home/dp/gits/hms-handler/cn_correct.py\"\u001b[0;36m, line \u001b[0;32m780\u001b[0m\n\u001b[0;31m    \"label\": \"Missing values\",},legend_kwds={,'orientation': \"horizontal\"})\u001b[0m\n\u001b[0m                                             ^\u001b[0m\n\u001b[0;31mSyntaxError\u001b[0m\u001b[0;31m:\u001b[0m invalid syntax\n"
     ]
    }
   ],
   "source": [
    "from cn_correct import MultiCorrectionTool as MCT"
   ]
  },
  {
   "cell_type": "code",
   "execution_count": null,
   "metadata": {},
   "outputs": [],
   "source": [
    "import numpy as np"
   ]
  },
  {
   "cell_type": "code",
   "execution_count": null,
   "metadata": {},
   "outputs": [],
   "source": [
    "l1_list=np.linspace(1,9,10)**2\n",
    "l1_list=list(1-l1_list/(max(l1_list)+1))\n",
    "model_spec_list=[\n",
    "    {'elastic-net':{\n",
    "        'l1_ratio':l1_list,#list(1-np.logspace(-2,-.03,7)),\n",
    "        'inner_cv':{'n_repeats':2,'n_splits':10,'n_jobs':1},\n",
    "        'max_poly_deg':5,'fit_intercept':False}\n",
    "        },\n",
    "    {'lasso':{'inner_cv':{'n_repeats':2,'n_splits':10,'n_jobs':1},\n",
    "              'max_poly_deg':5,'fit_intercept':False,\n",
    "             'n_alphas':200\n",
    "             }\n",
    "        },\n",
    "    {'lin-reg':{'inner_cv':{'n_repeats':2,'n_splits':10,'n_jobs':1},\n",
    "                'max_poly_deg':5,'fit_intercept':False}},\n",
    "    {'gbr':{\n",
    "        'kwargs':{},\n",
    "        'inner_cv':{'n_repeats':2,'n_splits':10,'n_jobs':1},\n",
    "        'param_grid':{\n",
    "            'ccp_alpha':[0.001,0.005,0.01],\n",
    "            'n_estimators':[200],\n",
    "            'learning_rate':[0.05,0.025],\n",
    "            'subsample':[0.7],'max_depth':[3]}#these pass through to sklearn's gbr\n",
    "            }\n",
    "        },\n",
    "    {'gbr':{\n",
    "            'kwargs':{},\n",
    "            'inner_cv':{'n_repeats':2,'n_splits':10,'n_jobs':1},\n",
    "            'param_grid':{\n",
    "                'n_estimators':[50,100,400],\n",
    "                'learning_rate':[0.05,0.025],\n",
    "                'subsample':[1,0.7],\n",
    "                'max_depth':[2,3]}#these pass through to sklearn's gbr\n",
    "                }\n",
    "            },\n",
    "    ]\n",
    "\n",
    "        "
   ]
  },
  {
   "cell_type": "code",
   "execution_count": null,
   "metadata": {},
   "outputs": [],
   "source": [
    "from warnings import filterwarnings\n",
    "filterwarnings('ignore')"
   ]
  },
  {
   "cell_type": "code",
   "execution_count": null,
   "metadata": {},
   "outputs": [],
   "source": [
    "mct=MCT(model_specs=model_spec_list)\n"
   ]
  },
  {
   "cell_type": "code",
   "execution_count": null,
   "metadata": {},
   "outputs": [],
   "source": [
    "mct.runCorrections() # not necessary if it's been run before and correction_results_df exists"
   ]
  },
  {
   "cell_type": "code",
   "execution_count": null,
   "metadata": {},
   "outputs": [],
   "source": [
    "mct.buildCorrectionResultsDF()"
   ]
  },
  {
   "cell_type": "code",
   "execution_count": null,
   "metadata": {},
   "outputs": [],
   "source": [
    "#mct.correction_results_df.groupby('section')['nse'].idxmax()"
   ]
  },
  {
   "cell_type": "code",
   "execution_count": null,
   "metadata": {},
   "outputs": [],
   "source": [
    "mct.selectCorrections()"
   ]
  },
  {
   "cell_type": "code",
   "execution_count": null,
   "metadata": {},
   "outputs": [],
   "source": [
    "mct.setCorrectionSelectionAccuracy()"
   ]
  },
  {
   "cell_type": "code",
   "execution_count": null,
   "metadata": {},
   "outputs": [],
   "source": [
    "mct.plotGeogHybridAccuracy(plot_negative=False)"
   ]
  },
  {
   "cell_type": "code",
   "execution_count": null,
   "metadata": {},
   "outputs": [],
   "source": [
    "mct.plotGeogHybridAccuracy(plot_negative=True)"
   ]
  },
  {
   "cell_type": "code",
   "execution_count": null,
   "metadata": {},
   "outputs": [],
   "source": [
    "mct.geog_gdf.head(60)"
   ]
  },
  {
   "cell_type": "code",
   "execution_count": null,
   "metadata": {},
   "outputs": [],
   "source": [
    "mct.geog_model_select_dict"
   ]
  },
  {
   "cell_type": "code",
   "execution_count": null,
   "metadata": {},
   "outputs": [],
   "source": []
  },
  {
   "cell_type": "code",
   "execution_count": null,
   "metadata": {},
   "outputs": [],
   "source": []
  },
  {
   "cell_type": "code",
   "execution_count": null,
   "metadata": {},
   "outputs": [],
   "source": []
  },
  {
   "cell_type": "code",
   "execution_count": null,
   "metadata": {},
   "outputs": [],
   "source": []
  },
  {
   "cell_type": "code",
   "execution_count": null,
   "metadata": {},
   "outputs": [],
   "source": []
  },
  {
   "cell_type": "code",
   "execution_count": null,
   "metadata": {},
   "outputs": [],
   "source": []
  }
 ],
 "metadata": {
  "kernelspec": {
   "display_name": "Python 3",
   "language": "python",
   "name": "python3"
  },
  "language_info": {
   "codemirror_mode": {
    "name": "ipython",
    "version": 3
   },
   "file_extension": ".py",
   "mimetype": "text/x-python",
   "name": "python",
   "nbconvert_exporter": "python",
   "pygments_lexer": "ipython3",
   "version": "3.8.6"
  }
 },
 "nbformat": 4,
 "nbformat_minor": 4
}
