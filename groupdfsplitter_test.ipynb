{
 "cells": [
  {
   "cell_type": "code",
   "execution_count": 1,
   "metadata": {},
   "outputs": [],
   "source": [
    "import numpy as np;import pandas as pd"
   ]
  },
  {
   "cell_type": "code",
   "execution_count": null,
   "metadata": {},
   "outputs": [],
   "source": []
  },
  {
   "cell_type": "code",
   "execution_count": null,
   "metadata": {},
   "outputs": [],
   "source": []
  },
  {
   "cell_type": "code",
   "execution_count": null,
   "metadata": {},
   "outputs": [],
   "source": []
  },
  {
   "cell_type": "code",
   "execution_count": 2,
   "metadata": {},
   "outputs": [],
   "source": [
    "from mylogger import myLogger"
   ]
  },
  {
   "cell_type": "code",
   "execution_count": 3,
   "metadata": {},
   "outputs": [
    {
     "ename": "SyntaxError",
     "evalue": "invalid syntax (<ipython-input-3-e6ebe9293738>, line 11)",
     "output_type": "error",
     "traceback": [
      "\u001b[0;36m  File \u001b[0;32m\"<ipython-input-3-e6ebe9293738>\"\u001b[0;36m, line \u001b[0;32m11\u001b[0m\n\u001b[0;31m    for gr\u001b[0m\n\u001b[0m          ^\u001b[0m\n\u001b[0;31mSyntaxError\u001b[0m\u001b[0;31m:\u001b[0m invalid syntax\n"
     ]
    }
   ],
   "source": [
    "class GroupDFSplitter(myLogger):\n",
    "    def __init__(self,n_reps):\n",
    "        myLogger.__init__(self)\n",
    "        self.n_reps=n_reps\n",
    "    def get_df_split(self,groups):\n",
    "        if type(groups) is pd.Series:\n",
    "            groups=pd.DataFrame(groups,columns=['group'])\n",
    "        inferred_group_name=groups.columns.to_list()[0]\n",
    "        idx_0=groups.index.values[0]\n",
    "        group_names=groups.loc[:,inferred_group_name].unique().to_list()\n",
    "        for gr\n",
    "            \n",
    "        \n",
    "        \n",
    "        print(inferred_group_name)\n",
    "        n=groups.shape[0]\n",
    "        num_groups=groups.value_counts(subset=inferred_group_name).min()\n",
    "        print('num_groups: ',num_groups)\n",
    "        for seed in range(self.n_reps):\n",
    "            shuf_grp=groups.sample(frac=1,replace=False,random_state=seed)\n",
    "            print('\\n\\n\\n\\nshuffle_group:\\n',shuf_grp)\n",
    "            grp=shuf_grp.groupby(by=inferred_group_name).ngroup()\n",
    "            for i in range(num_groups):\n",
    "                print(f'\\n\\n\\nsplit {seed*num_groups+i}')\n",
    "                \n",
    "                grp_bool=grp!=pd.Series([i]*n,name=grp.name,index=grp.index)\n",
    "                #grp_bool=grp.map(lambda x:x in selector)\n",
    "                #idx=pd.Series(np.arange(grp.shape[0]),index=grp.index)\n",
    "                #grp_bool,_=grp_bool.align(groups,axis=0)\n",
    "                #_,grp_bool=groups.align(grp_bool,axis=0,join='outer')\n",
    "                yield grp_bool\n",
    "                #yield idx[grp_bool].to_numpy()"
   ]
  },
  {
   "cell_type": "code",
   "execution_count": 5,
   "metadata": {},
   "outputs": [
    {
     "name": "stdout",
     "output_type": "stream",
     "text": [
      "data:\n",
      "                               a    b    c    d\n",
      "first_idx    second_idx                       \n",
      "left index 0 right index 0    0    1    2    3\n",
      "             right index 0    4    5    6    7\n",
      "             right index 0    8    9   10   11\n",
      "             right index 0   12   13   14   15\n",
      "             right index 1   16   17   18   19\n",
      "             right index 1   20   21   22   23\n",
      "             right index 1   24   25   26   27\n",
      "             right index 1   28   29   30   31\n",
      "left index 1 right index 2   32   33   34   35\n",
      "             right index 2   36   37   38   39\n",
      "             right index 2   40   41   42   43\n",
      "             right index 2   44   45   46   47\n",
      "             right index 3   48   49   50   51\n",
      "             right index 3   52   53   54   55\n",
      "             right index 3   56   57   58   59\n",
      "             right index 3   60   61   62   63\n",
      "left index 2 right index 4   64   65   66   67\n",
      "             right index 4   68   69   70   71\n",
      "             right index 4   72   73   74   75\n",
      "             right index 4   76   77   78   79\n",
      "             right index 5   80   81   82   83\n",
      "             right index 5   84   85   86   87\n",
      "             right index 5   88   89   90   91\n",
      "             right index 5   92   93   94   95\n",
      "left index 3 right index 6   96   97   98   99\n",
      "             right index 6  100  101  102  103\n",
      "             right index 6  104  105  106  107\n",
      "             right index 6  108  109  110  111\n",
      "             right index 7  112  113  114  115\n",
      "             right index 7  116  117  118  119\n",
      "             right index 7  120  121  122  123\n",
      "             right index 7  124  125  126  127\n",
      "\n",
      "\n",
      "grouping:\n",
      "                            cat\n",
      "first_idx    second_idx       \n",
      "left index 0 right index 0   A\n",
      "             right index 0   A\n",
      "             right index 0   A\n",
      "             right index 0   A\n",
      "             right index 1   A\n",
      "             right index 1   A\n",
      "             right index 1   A\n",
      "             right index 1   A\n",
      "left index 1 right index 2   B\n",
      "             right index 2   B\n",
      "             right index 2   B\n",
      "             right index 2   B\n",
      "             right index 3   B\n",
      "             right index 3   B\n",
      "             right index 3   B\n",
      "             right index 3   B\n",
      "left index 2 right index 4   C\n",
      "             right index 4   C\n",
      "             right index 4   C\n",
      "             right index 4   C\n",
      "             right index 5   C\n",
      "             right index 5   C\n",
      "             right index 5   C\n",
      "             right index 5   C\n",
      "left index 3 right index 6   D\n",
      "             right index 6   D\n",
      "             right index 6   D\n",
      "             right index 6   D\n",
      "             right index 7   D\n",
      "             right index 7   D\n",
      "             right index 7   D\n",
      "             right index 7   D\n"
     ]
    }
   ],
   "source": [
    "midx=pd.MultiIndex.from_tuples([(f'left index {i//8}',f'right index {i//4}') for i in range(32)],names=['first_idx','second_idx'])\n",
    "df=pd.DataFrame(np.arange(128).reshape(32,4),columns=['a','b','c','d'],index=midx)#.reset_index()\n",
    "group=pd.DataFrame(['A']*8+['B']*8+['C']*8+['D']*8,index=midx,columns=['cat'])\n",
    "print('data:\\n',df)\n",
    "print('\\n\\ngrouping:\\n',group)"
   ]
  },
  {
   "cell_type": "code",
   "execution_count": 7,
   "metadata": {},
   "outputs": [
    {
     "data": {
      "text/plain": [
       "['right index 0',\n",
       " 'right index 1',\n",
       " 'right index 2',\n",
       " 'right index 3',\n",
       " 'right index 4',\n",
       " 'right index 5',\n",
       " 'right index 6',\n",
       " 'right index 7']"
      ]
     },
     "execution_count": 7,
     "metadata": {},
     "output_type": "execute_result"
    }
   ],
   "source": [
    "\n",
    "df.index.get_level_values('second_idx').unique().to_list()"
   ]
  },
  {
   "cell_type": "code",
   "execution_count": null,
   "metadata": {},
   "outputs": [],
   "source": []
  },
  {
   "cell_type": "code",
   "execution_count": null,
   "metadata": {},
   "outputs": [],
   "source": [
    "(group.reset_index().groupby(['cat','second_idx']).cumcount()==0).astype(int).cumsum()"
   ]
  },
  {
   "cell_type": "code",
   "execution_count": null,
   "metadata": {},
   "outputs": [],
   "source": [
    "for bool_idx in GroupDFSplitter(2).get_df_split(group):\n",
    "    print(df[bool_idx])"
   ]
  },
  {
   "cell_type": "code",
   "execution_count": 4,
   "metadata": {},
   "outputs": [
    {
     "ename": "NameError",
     "evalue": "name 'df' is not defined",
     "output_type": "error",
     "traceback": [
      "\u001b[0;31m----------------------------------------------------------------\u001b[0m",
      "\u001b[0;31mNameError\u001b[0m                      Traceback (most recent call last)",
      "\u001b[0;32m<ipython-input-4-49fb7b764694>\u001b[0m in \u001b[0;36m<module>\u001b[0;34m\u001b[0m\n\u001b[0;32m----> 1\u001b[0;31m \u001b[0mdf\u001b[0m\u001b[0;34m[\u001b[0m\u001b[0mbool_idx\u001b[0m\u001b[0;34m]\u001b[0m\u001b[0;34m.\u001b[0m\u001b[0mindex\u001b[0m\u001b[0;34m.\u001b[0m\u001b[0munique\u001b[0m\u001b[0;34m(\u001b[0m\u001b[0mlevel\u001b[0m\u001b[0;34m=\u001b[0m\u001b[0;34m'second_idx'\u001b[0m\u001b[0;34m)\u001b[0m\u001b[0;34m\u001b[0m\u001b[0;34m\u001b[0m\u001b[0m\n\u001b[0m",
      "\u001b[0;31mNameError\u001b[0m: name 'df' is not defined"
     ]
    }
   ],
   "source": [
    "df[bool_idx].index.unique(level='second_idx')"
   ]
  },
  {
   "cell_type": "code",
   "execution_count": null,
   "metadata": {},
   "outputs": [],
   "source": [
    "assert False,'stop'"
   ]
  },
  {
   "cell_type": "code",
   "execution_count": null,
   "metadata": {},
   "outputs": [],
   "source": []
  },
  {
   "cell_type": "code",
   "execution_count": null,
   "metadata": {},
   "outputs": [],
   "source": []
  },
  {
   "cell_type": "code",
   "execution_count": null,
   "metadata": {},
   "outputs": [],
   "source": []
  },
  {
   "cell_type": "code",
   "execution_count": null,
   "metadata": {},
   "outputs": [],
   "source": [
    "print('original group\\n',group)\n",
    "for seed in range(2):\n",
    "    shuf_grp=group.sample(frac=1,replace=False,random_state=seed)\n",
    "    print('shuffled:\\n',shuf_grp,'\\n')\n",
    "    for i in range(4):\n",
    "        selector=list(range(4))\n",
    "        selector.pop(i)\n",
    "        print(f'drop {i}\\n')\n",
    "        grp=shuf_grp.groupby(by='cat').cumcount()\n",
    "        #df_temp['group']=df_temp.groupby('e').cumcount()\n",
    "        grp_bool=grp.map(lambda x:x in selector)\n",
    "        df_i=df[grp_bool]\n",
    "        print(df_i)\n",
    "        n=group.shape[0]\n",
    "        #print(df_temp[df_temp['group'].map(lambda x:x in selector)],'\\n\\n\\n')\n"
   ]
  },
  {
   "cell_type": "code",
   "execution_count": null,
   "metadata": {},
   "outputs": [],
   "source": []
  },
  {
   "cell_type": "code",
   "execution_count": null,
   "metadata": {},
   "outputs": [],
   "source": [
    "\"\"\"for seed in range(2):\n",
    "    df_temp=df.sample(frac=1,replace=False,random_state=seed)\n",
    "    print('shuffled:\\n',df_temp,'\\n')\n",
    "    for i in range(4):\n",
    "        selector=list(range(4))\n",
    "        selector.pop(i)\n",
    "        print(f'drop {i}\\n')\n",
    "        df_temp['group']=df_temp.groupby('e').cumcount()\n",
    "        print(df_temp[df_temp['group'].map(lambda x:x in selector)],'\\n\\n\\n')\"\"\""
   ]
  },
  {
   "cell_type": "code",
   "execution_count": null,
   "metadata": {},
   "outputs": [],
   "source": [
    "df_g2=df_g.cumcount()\n",
    "df_g2\n"
   ]
  },
  {
   "cell_type": "code",
   "execution_count": null,
   "metadata": {},
   "outputs": [],
   "source": []
  },
  {
   "cell_type": "code",
   "execution_count": null,
   "metadata": {},
   "outputs": [],
   "source": [
    "arr=np.asfortranarray(df.to_numpy)"
   ]
  },
  {
   "cell_type": "code",
   "execution_count": null,
   "metadata": {},
   "outputs": [],
   "source": [
    "arr.flags['F_CONTIGUOUS']"
   ]
  },
  {
   "cell_type": "code",
   "execution_count": null,
   "metadata": {},
   "outputs": [],
   "source": []
  }
 ],
 "metadata": {
  "kernelspec": {
   "display_name": "Python 3",
   "language": "python",
   "name": "python3"
  },
  "language_info": {
   "codemirror_mode": {
    "name": "ipython",
    "version": 3
   },
   "file_extension": ".py",
   "mimetype": "text/x-python",
   "name": "python",
   "nbconvert_exporter": "python",
   "pygments_lexer": "ipython3",
   "version": "3.8.6"
  }
 },
 "nbformat": 4,
 "nbformat_minor": 4
}
