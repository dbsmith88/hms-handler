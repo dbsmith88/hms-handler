{
 "cells": [
  {
   "cell_type": "code",
   "execution_count": 1,
   "metadata": {},
   "outputs": [],
   "source": [
    "from accuracy_assessment import DataTool"
   ]
  },
  {
   "cell_type": "code",
   "execution_count": 2,
   "metadata": {},
   "outputs": [],
   "source": [
    "#import warnings\n",
    "#warnings.filterwarnings(\"ignore\")"
   ]
  },
  {
   "cell_type": "code",
   "execution_count": 3,
   "metadata": {},
   "outputs": [],
   "source": [
    "dt=DataTool()\n",
    " "
   ]
  },
  {
   "cell_type": "code",
   "execution_count": 4,
   "metadata": {},
   "outputs": [],
   "source": [
    "dt.set_flat_c_stats_df()"
   ]
  },
  {
   "cell_type": "code",
   "execution_count": 5,
   "metadata": {},
   "outputs": [
    {
     "name": "stdout",
     "output_type": "stream",
     "text": [
      "OLS results for modeldict:\n",
      "{'data_sources': ['nldas'], 'accuracy_metrics': ['pearsons'], 'exclusions': ['monthly', 'yearly', 'none', '25p'], 'geog_covs': ['province']}\n",
      "                            OLS Regression Results                            \n",
      "==============================================================================\n",
      "Dep. Variable:               accuracy   R-squared:                       0.185\n",
      "Model:                            OLS   Adj. R-squared:                  0.152\n",
      "Method:                 Least Squares   F-statistic:                     5.662\n",
      "Date:                Tue, 12 Jan 2021   Prob (F-statistic):           1.26e-11\n",
      "Time:                        08:49:35   Log-Likelihood:                -3.9274\n",
      "No. Observations:                 443   AIC:                             43.85\n",
      "Df Residuals:                     425   BIC:                             117.5\n",
      "Df Model:                          17                                         \n",
      "Covariance Type:            nonrobust                                         \n",
      "=====================================================================================================\n",
      "                                        coef    std err          t      P>|t|      [0.025      0.975]\n",
      "-----------------------------------------------------------------------------------------------------\n",
      "province_BASIN AND RANGE              0.6513      0.062     10.453      0.000       0.529       0.774\n",
      "province_GREAT PLAINS                 0.7055      0.035     20.014      0.000       0.636       0.775\n",
      "province_NEW ENGLAND                  0.5045      0.044     11.450      0.000       0.418       0.591\n",
      "province_COASTAL PLAIN                0.7545      0.034     22.245      0.000       0.688       0.821\n",
      "province_ST. LAWRENCE VALLEY          0.6723      0.111      6.032      0.000       0.453       0.891\n",
      "province_APPALACHIAN PLATEAUS         0.6027      0.043     13.892      0.000       0.517       0.688\n",
      "province_ADIRONDACK                   0.4720      0.043     11.043      0.000       0.388       0.556\n",
      "province_VALLEY AND RIDGE             0.6507      0.069      9.413      0.000       0.515       0.787\n",
      "province_PIEDMONT                     0.7632      0.064     11.860      0.000       0.637       0.890\n",
      "province_BLUE RIDGE                   0.6815      0.083      8.203      0.000       0.518       0.845\n",
      "province_CENTRAL LOWLAND              0.5610      0.044     12.732      0.000       0.474       0.648\n",
      "province_INTERIOR LOW PLATEAUS        0.7893      0.062     12.667      0.000       0.667       0.912\n",
      "province_OZARK PLATEAUS               0.6535      0.079      8.291      0.000       0.499       0.808\n",
      "province_OUACHITA                     0.7621      0.079      9.670      0.000       0.607       0.917\n",
      "province_COLORADO PLATEAUS            0.5301      0.060      8.770      0.000       0.411       0.649\n",
      "province_CASCADE-SIERRA MOUNTAINS     0.6464      0.057     11.304      0.000       0.534       0.759\n",
      "province_COLUMBIA PLATEAU             0.3775      0.052      7.263      0.000       0.275       0.480\n",
      "province_PACIFIC BORDER               0.7540      0.034     22.436      0.000       0.688       0.820\n",
      "==============================================================================\n",
      "Omnibus:                      199.603   Durbin-Watson:                   1.666\n",
      "Prob(Omnibus):                  0.000   Jarque-Bera (JB):             1223.315\n",
      "Skew:                          -1.853   Prob(JB):                    2.29e-266\n",
      "Kurtosis:                      10.248   Cond. No.                         3.32\n",
      "==============================================================================\n",
      "\n",
      "Notes:\n",
      "[1] Standard Errors assume that the covariance matrix of the errors is correctly specified.\n"
     ]
    }
   ],
   "source": [
    "dt.run_acc_compare(print_summary=True)"
   ]
  },
  {
   "cell_type": "code",
   "execution_count": 8,
   "metadata": {},
   "outputs": [
    {
     "name": "stdout",
     "output_type": "stream",
     "text": [
      "OLS results for modeldict:\n",
      "{'data_sources': ['nldas'], 'accuracy_metrics': ['pearsons'], 'exclusions': ['monthly', 'yearly', 'none', '25p'], 'geog_covs': ['section']}\n",
      "                            OLS Regression Results                            \n",
      "==============================================================================\n",
      "Dep. Variable:               accuracy   R-squared:                       0.434\n",
      "Model:                            OLS   Adj. R-squared:                  0.309\n",
      "Method:                 Least Squares   F-statistic:                     3.464\n",
      "Date:                Tue, 12 Jan 2021   Prob (F-statistic):           7.16e-15\n",
      "Time:                        10:38:12   Log-Likelihood:                 87.272\n",
      "No. Observations:                 409   AIC:                            -24.54\n",
      "Df Residuals:                     334   BIC:                             276.5\n",
      "Df Model:                          74                                         \n",
      "Covariance Type:            nonrobust                                         \n",
      "=========================================================================================================\n",
      "                                            coef    std err          t      P>|t|      [0.025      0.975]\n",
      "---------------------------------------------------------------------------------------------------------\n",
      "section_SACRAMENTO                        0.7616      0.097      7.873      0.000       0.571       0.952\n",
      "section_EDWARDS PLATEAU                   0.8068      0.097      8.340      0.000       0.616       0.997\n",
      "section_MISSOURI PLATEAU, GLACIATED       0.5215      0.097      5.391      0.000       0.331       0.712\n",
      "section_COLORADO PIEDMONT                 0.6730      0.097      6.956      0.000       0.483       0.863\n",
      "section_WHITE MOUNTAIN                    0.2824      0.097      2.919      0.004       0.092       0.473\n",
      "section_NEW ENGLAND UPLAND                0.2919      0.097      3.017      0.003       0.102       0.482\n",
      "section_SEABOARD LOWLAND                  0.5197      0.062      8.323      0.000       0.397       0.643\n",
      "section_GREEN MOUNTAIN                    0.6361      0.097      6.575      0.000       0.446       0.826\n",
      "section_EMBAYED                           0.6807      0.043     15.734      0.000       0.596       0.766\n",
      "section_TACONIC                           0.7711      0.097      7.971      0.000       0.581       0.961\n",
      "section_CHAMPLAIN                         0.6723      0.097      6.950      0.000       0.482       0.863\n",
      "section_CATSKILL                          0.4636      0.097      4.793      0.000       0.273       0.654\n",
      "section_HUDSON VALLEY                     0.7261      0.097      7.506      0.000       0.536       0.916\n",
      "section_MOHAWK                            0.5167      0.097      5.341      0.000       0.326       0.707\n",
      "section_PIEDMONT LOWLANDS                 0.7402      0.068     10.820      0.000       0.606       0.875\n",
      "section_SOUTHERN NEW YORK                 0.3219      0.097      3.328      0.001       0.132       0.512\n",
      "section_ALLEGHENY MOUNTAIN                0.6894      0.125      5.520      0.000       0.444       0.935\n",
      "section_MIDDLE                            0.2546      0.125      2.038      0.042       0.009       0.500\n",
      "section_NORTHERN                          0.6057      0.097      6.262      0.000       0.415       0.796\n",
      "section_PIEDMONT UPLAND                   0.8094      0.097      8.367      0.000       0.619       1.000\n",
      "section_SOUTHERN                          0.7762      0.108      7.177      0.000       0.563       0.989\n",
      "section_SEA ISLAND                        0.8986      0.097      9.289      0.000       0.708       1.089\n",
      "section_FLORIDIAN                         0.7826      0.108      7.236      0.000       0.570       0.995\n",
      "section_EAST GULF COASTAL PLAIN           0.6751      0.097      6.978      0.000       0.485       0.865\n",
      "section_TENNESSEE                         0.8128      0.097      8.403      0.000       0.623       1.003\n",
      "section_CUMBERLAND PLATEAU                0.8331      0.097      8.612      0.000       0.643       1.023\n",
      "section_EASTERN LAKE                      0.1427      0.072      1.979      0.049       0.001       0.285\n",
      "section_KANAWHA                           0.6707      0.097      6.933      0.000       0.480       0.861\n",
      "section_TILL PLAINS                       0.7290      0.097      7.536      0.000       0.539       0.919\n",
      "section_LEXINGTON PLAIN                   0.7573      0.097      7.828      0.000       0.567       0.948\n",
      "section_HIGHLAND RIM                      0.7648      0.088      8.661      0.000       0.591       0.939\n",
      "section_CUMBERLAND MOUNTAIN               0.7584      0.097      7.839      0.000       0.568       0.949\n",
      "section_NASHVILLE BASIN                   0.8507      0.097      8.794      0.000       0.660       1.041\n",
      "section_WESTERN LAKE                      0.7680      0.097      7.939      0.000       0.578       0.958\n",
      "section_DISSECTED TILL PLAINS             0.6917      0.097      7.150      0.000       0.501       0.882\n",
      "section_WISCONSIN DRIFTLESS               0.6400      0.125      5.124      0.000       0.394       0.886\n",
      "section_SPRINGFIELD-SALEM PLATEAUS        0.6780      0.097      7.008      0.000       0.488       0.868\n",
      "section_MISSISSIPPI ALLUVIAL PLAIN        0.8318      0.097      8.598      0.000       0.641       1.022\n",
      "section_OUACHITA MOUNTAINS                0.7988      0.097      8.257      0.000       0.608       0.989\n",
      "section_WEST GULF COASTAL PLAIN           0.8567      0.068     12.524      0.000       0.722       0.991\n",
      "section_MISSOURI PLATEAU, UNGLACIATED     0.6659      0.097      6.883      0.000       0.476       0.856\n",
      "section_BLACK HILLS                       0.6416      0.097      6.632      0.000       0.451       0.832\n",
      "section_HIGH PLAINS                       0.6545      0.097      6.765      0.000       0.464       0.845\n",
      "section_PLAINS BORDER                     0.7499      0.097      7.752      0.000       0.560       0.940\n",
      "section_OSAGE PLAINS                      0.7607      0.097      7.863      0.000       0.570       0.951\n",
      "section_BOSTON \"MOUNTAINS\"                0.6290      0.097      6.502      0.000       0.439       0.819\n",
      "section_ARKANSAS VALLEY                   0.7255      0.097      7.499      0.000       0.535       0.916\n",
      "section_RATON                             0.7142      0.097      7.383      0.000       0.524       0.905\n",
      "section_PECOS VALLEY                      0.8176      0.097      8.451      0.000       0.627       1.008\n",
      "section_CENTRAL TEXAS                     0.8098      0.097      8.371      0.000       0.619       1.000\n",
      "section_DATIL                             0.6740      0.125      5.397      0.000       0.428       0.920\n",
      "section_MEXICAN HIGHLAND                  0.8331      0.125      6.671      0.000       0.587       1.079\n",
      "section_CANYON LANDS                      0.5088      0.097      5.260      0.000       0.319       0.699\n",
      "section_UINTA BASIN                       0.2308      0.108      2.134      0.034       0.018       0.444\n",
      "section_HIGH PLATEAUS OF UTAH             0.6160      0.125      4.933      0.000       0.370       0.862\n",
      "section_NAVAJO                            0.8376      0.153      5.476      0.000       0.537       1.138\n",
      "section_GREAT BASIN                       0.4507      0.097      4.659      0.000       0.260       0.641\n",
      "section_NORTHERN CASCADE MOUNTAINS        0.6562      0.108      6.067      0.000       0.443       0.869\n",
      "section_WALLA WALLA PLATEAU               0.3493      0.108      3.230      0.001       0.137       0.562\n",
      "section_MIDDLE CASCADE MOUNTAINS          0.7242      0.097      7.487      0.000       0.534       0.915\n",
      "section_SNAKE RIVER PLAIN                 0.2677      0.097      2.767      0.006       0.077       0.458\n",
      "section_PAYETTE                           0.3976      0.097      4.110      0.000       0.207       0.588\n",
      "section_BLUE MOUNTAIN                     0.4287      0.097      4.432      0.000       0.238       0.619\n",
      "section_HARNEY                            0.4538      0.108      4.196      0.000       0.241       0.667\n",
      "section_OREGON COAST RANGE                0.8634      0.097      8.925      0.000       0.673       1.054\n",
      "section_PUGET TROUGH                      0.7525      0.054     13.915      0.000       0.646       0.859\n",
      "section_OLYMPIC MOUNTAINS                 0.8728      0.097      9.022      0.000       0.682       1.063\n",
      "section_KLAMATH MOUNTAINS                 0.7712      0.097      7.972      0.000       0.581       0.962\n",
      "section_CALIFORNIA COAST RANGES           0.7332      0.068     10.719      0.000       0.599       0.868\n",
      "section_SOUTHERN CASCADE MOUNTAINS        0.6526      0.097      6.746      0.000       0.462       0.843\n",
      "section_CALIFORNIA TROUGH                 0.6949      0.097      7.183      0.000       0.505       0.885\n",
      "section_SIERRA NEVADA                     0.5544      0.097      5.731      0.000       0.364       0.745\n",
      "section_LOS ANGELES RANGES                0.6764      0.072      9.381      0.000       0.535       0.818\n",
      "section_SONORAN DESERT                    0.7240      0.216      3.347      0.001       0.298       1.150\n",
      "section_SALTON TROUGH                     0.5679      0.153      3.713      0.000       0.267       0.869\n",
      "==============================================================================\n",
      "Omnibus:                      191.508   Durbin-Watson:                   2.342\n",
      "Prob(Omnibus):                  0.000   Jarque-Bera (JB):             1951.360\n",
      "Skew:                          -1.726   Prob(JB):                         0.00\n",
      "Kurtosis:                      13.129   Cond. No.                         5.00\n",
      "==============================================================================\n",
      "\n",
      "Notes:\n",
      "[1] Standard Errors assume that the covariance matrix of the errors is correctly specified.\n"
     ]
    }
   ],
   "source": [
    "dt.modeldict['geog_covs']=['section']\n",
    "dt.set_flat_c_stats_df()\n",
    "dt.run_acc_compare(print_summary=True)"
   ]
  },
  {
   "cell_type": "code",
   "execution_count": 6,
   "metadata": {},
   "outputs": [
    {
     "ename": "SyntaxError",
     "evalue": "invalid syntax (<ipython-input-6-60215a10e730>, line 1)",
     "output_type": "error",
     "traceback": [
      "\u001b[0;36m  File \u001b[0;32m\"<ipython-input-6-60215a10e730>\"\u001b[0;36m, line \u001b[0;32m1\u001b[0m\n\u001b[0;31m    -\u001b[0m\n\u001b[0m     ^\u001b[0m\n\u001b[0;31mSyntaxError\u001b[0m\u001b[0;31m:\u001b[0m invalid syntax\n"
     ]
    }
   ],
   "source": [
    "-"
   ]
  },
  {
   "cell_type": "code",
   "execution_count": null,
   "metadata": {},
   "outputs": [],
   "source": [
    "dt.X_float_df.shape"
   ]
  },
  {
   "cell_type": "code",
   "execution_count": null,
   "metadata": {},
   "outputs": [],
   "source": [
    "dt.X_float_df.to_csv('xfloat.csv')"
   ]
  },
  {
   "cell_type": "code",
   "execution_count": null,
   "metadata": {},
   "outputs": [],
   "source": []
  },
  {
   "cell_type": "code",
   "execution_count": null,
   "metadata": {},
   "outputs": [],
   "source": [
    "dt.set_flat_c_stats_df()\n"
   ]
  },
  {
   "cell_type": "code",
   "execution_count": null,
   "metadata": {},
   "outputs": [],
   "source": [
    "dt.flat_c_stats_df.head()"
   ]
  },
  {
   "cell_type": "code",
   "execution_count": null,
   "metadata": {},
   "outputs": [],
   "source": []
  },
  {
   "cell_type": "code",
   "execution_count": null,
   "metadata": {},
   "outputs": [],
   "source": []
  }
 ],
 "metadata": {
  "kernelspec": {
   "display_name": "Python 3",
   "language": "python",
   "name": "python3"
  },
  "language_info": {
   "codemirror_mode": {
    "name": "ipython",
    "version": 3
   },
   "file_extension": ".py",
   "mimetype": "text/x-python",
   "name": "python",
   "nbconvert_exporter": "python",
   "pygments_lexer": "ipython3",
   "version": "3.8.2"
  }
 },
 "nbformat": 4,
 "nbformat_minor": 4
}
