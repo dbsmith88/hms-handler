{
 "cells": [
  {
   "cell_type": "code",
   "execution_count": 1,
   "metadata": {},
   "outputs": [],
   "source": [
    "from accuracy_assessment import DataTool"
   ]
  },
  {
   "cell_type": "code",
   "execution_count": 2,
   "metadata": {},
   "outputs": [],
   "source": [
    "#import warnings\n",
    "#warnings.filterwarnings(\"ignore\")"
   ]
  },
  {
   "cell_type": "code",
   "execution_count": 3,
   "metadata": {},
   "outputs": [],
   "source": [
    "dt=DataTool()\n",
    " "
   ]
  },
  {
   "cell_type": "code",
   "execution_count": 4,
   "metadata": {},
   "outputs": [],
   "source": [
    "dt.set_flat_c_stats_df()"
   ]
  },
  {
   "cell_type": "code",
   "execution_count": 5,
   "metadata": {},
   "outputs": [
    {
     "name": "stdout",
     "output_type": "stream",
     "text": [
      "OLS results for modeldict:\n",
      "{'data_sources': ['nldas'], 'accuracy_metrics': ['pearsons'], 'exclusions': ['monthly', 'yearly', 'none', '25p'], 'geog_covs': ['province']}\n",
      "                            OLS Regression Results                            \n",
      "==============================================================================\n",
      "Dep. Variable:               accuracy   R-squared:                       0.185\n",
      "Model:                            OLS   Adj. R-squared:                  0.152\n",
      "Method:                 Least Squares   F-statistic:                     5.662\n",
      "Date:                Tue, 12 Jan 2021   Prob (F-statistic):           1.26e-11\n",
      "Time:                        08:49:35   Log-Likelihood:                -3.9274\n",
      "No. Observations:                 443   AIC:                             43.85\n",
      "Df Residuals:                     425   BIC:                             117.5\n",
      "Df Model:                          17                                         \n",
      "Covariance Type:            nonrobust                                         \n",
      "=====================================================================================================\n",
      "                                        coef    std err          t      P>|t|      [0.025      0.975]\n",
      "-----------------------------------------------------------------------------------------------------\n",
      "province_BASIN AND RANGE              0.6513      0.062     10.453      0.000       0.529       0.774\n",
      "province_GREAT PLAINS                 0.7055      0.035     20.014      0.000       0.636       0.775\n",
      "province_NEW ENGLAND                  0.5045      0.044     11.450      0.000       0.418       0.591\n",
      "province_COASTAL PLAIN                0.7545      0.034     22.245      0.000       0.688       0.821\n",
      "province_ST. LAWRENCE VALLEY          0.6723      0.111      6.032      0.000       0.453       0.891\n",
      "province_APPALACHIAN PLATEAUS         0.6027      0.043     13.892      0.000       0.517       0.688\n",
      "province_ADIRONDACK                   0.4720      0.043     11.043      0.000       0.388       0.556\n",
      "province_VALLEY AND RIDGE             0.6507      0.069      9.413      0.000       0.515       0.787\n",
      "province_PIEDMONT                     0.7632      0.064     11.860      0.000       0.637       0.890\n",
      "province_BLUE RIDGE                   0.6815      0.083      8.203      0.000       0.518       0.845\n",
      "province_CENTRAL LOWLAND              0.5610      0.044     12.732      0.000       0.474       0.648\n",
      "province_INTERIOR LOW PLATEAUS        0.7893      0.062     12.667      0.000       0.667       0.912\n",
      "province_OZARK PLATEAUS               0.6535      0.079      8.291      0.000       0.499       0.808\n",
      "province_OUACHITA                     0.7621      0.079      9.670      0.000       0.607       0.917\n",
      "province_COLORADO PLATEAUS            0.5301      0.060      8.770      0.000       0.411       0.649\n",
      "province_CASCADE-SIERRA MOUNTAINS     0.6464      0.057     11.304      0.000       0.534       0.759\n",
      "province_COLUMBIA PLATEAU             0.3775      0.052      7.263      0.000       0.275       0.480\n",
      "province_PACIFIC BORDER               0.7540      0.034     22.436      0.000       0.688       0.820\n",
      "==============================================================================\n",
      "Omnibus:                      199.603   Durbin-Watson:                   1.666\n",
      "Prob(Omnibus):                  0.000   Jarque-Bera (JB):             1223.315\n",
      "Skew:                          -1.853   Prob(JB):                    2.29e-266\n",
      "Kurtosis:                      10.248   Cond. No.                         3.32\n",
      "==============================================================================\n",
      "\n",
      "Notes:\n",
      "[1] Standard Errors assume that the covariance matrix of the errors is correctly specified.\n"
     ]
    }
   ],
   "source": [
    "dt.run_acc_compare(print_summary=True)"
   ]
  },
  {
   "cell_type": "code",
   "execution_count": 6,
   "metadata": {},
   "outputs": [
    {
     "ename": "SyntaxError",
     "evalue": "invalid syntax (<ipython-input-6-60215a10e730>, line 1)",
     "output_type": "error",
     "traceback": [
      "\u001b[0;36m  File \u001b[0;32m\"<ipython-input-6-60215a10e730>\"\u001b[0;36m, line \u001b[0;32m1\u001b[0m\n\u001b[0;31m    -\u001b[0m\n\u001b[0m     ^\u001b[0m\n\u001b[0;31mSyntaxError\u001b[0m\u001b[0;31m:\u001b[0m invalid syntax\n"
     ]
    }
   ],
   "source": [
    "-"
   ]
  },
  {
   "cell_type": "code",
   "execution_count": null,
   "metadata": {},
   "outputs": [],
   "source": [
    "dt.X_float_df.shape"
   ]
  },
  {
   "cell_type": "code",
   "execution_count": null,
   "metadata": {},
   "outputs": [],
   "source": [
    "dt.X_float_df.to_csv('xfloat.csv')"
   ]
  },
  {
   "cell_type": "code",
   "execution_count": null,
   "metadata": {},
   "outputs": [],
   "source": []
  },
  {
   "cell_type": "code",
   "execution_count": null,
   "metadata": {},
   "outputs": [],
   "source": [
    "dt.set_flat_c_stats_df()\n"
   ]
  },
  {
   "cell_type": "code",
   "execution_count": null,
   "metadata": {},
   "outputs": [],
   "source": [
    "dt.flat_c_stats_df.head()"
   ]
  },
  {
   "cell_type": "code",
   "execution_count": null,
   "metadata": {},
   "outputs": [],
   "source": []
  },
  {
   "cell_type": "code",
   "execution_count": null,
   "metadata": {},
   "outputs": [],
   "source": []
  }
 ],
 "metadata": {
  "kernelspec": {
   "display_name": "Python 3",
   "language": "python",
   "name": "python3"
  },
  "language_info": {
   "codemirror_mode": {
    "name": "ipython",
    "version": 3
   },
   "file_extension": ".py",
   "mimetype": "text/x-python",
   "name": "python",
   "nbconvert_exporter": "python",
   "pygments_lexer": "ipython3",
   "version": "3.8.2"
  }
 },
 "nbformat": 4,
 "nbformat_minor": 4
}
