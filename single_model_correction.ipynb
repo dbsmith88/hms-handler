{
 "cells": [
  {
   "cell_type": "code",
   "execution_count": 1,
   "metadata": {},
   "outputs": [],
   "source": [
    "import os;os.getcwd()\n",
    "from traceback import format_exc"
   ]
  },
  {
   "cell_type": "code",
   "execution_count": 2,
   "metadata": {},
   "outputs": [],
   "source": [
    "from cn_correct import CompareCorrect as CC"
   ]
  },
  {
   "cell_type": "code",
   "execution_count": 3,
   "metadata": {},
   "outputs": [],
   "source": [
    "from warnings import filterwarnings\n",
    "filterwarnings('ignore')"
   ]
  },
  {
   "cell_type": "code",
   "execution_count": 4,
   "metadata": {},
   "outputs": [],
   "source": [
    "#cc=CC()"
   ]
  },
  {
   "cell_type": "code",
   "execution_count": null,
   "metadata": {},
   "outputs": [
    {
     "name": "stdout",
     "output_type": "stream",
     "text": [
      "modeldict {'cross_validate': {'n_reps': 3, 'strategy': 'leave_one_member_out'}, 'model_geog': 'section', 'sources': {'observed': 'nldas', 'modeled': 'cn'}, 'filter': 'nonzero', 'train_share': 0.5, 'split_order': 'chronological', 'model_scale': 'division', 'model_specs': {'gbr': {'kwargs': {}}}, 'results_folder': 'results/707393caf1308a9a9345667e5881fb2e'}\n",
      "running big model\n",
      "gbr took 0.0214444637298584 minutes to complete\n",
      "gbr took 0.03051002025604248 minutes to complete\n",
      "gbr took 0.02922278642654419 minutes to complete\n",
      "gbr took 0.03633627891540527 minutes to complete\n",
      "gbr took 0.037095141410827634 minutes to completegbr took 0.03905408382415772 minutes to complete\n",
      "\n",
      "gbr took 0.038751216729482015 minutes to complete\n",
      "gbr took 0.028005433082580567 minutes to complete\n",
      "gbr took 0.03127470811208089 minutes to complete\n",
      "gbr took 0.03287719090779622 minutes to complete\n",
      "gbr took 0.03388688564300537 minutes to complete\n",
      "gbr took 0.03646458784739177 minutes to complete\n",
      "gbr took 0.026096169153849283 minutes to complete\n",
      "gbr took 0.028522229194641112 minutes to complete\n",
      "gbr took 0.024051952362060546 minutes to complete\n",
      "running big model\n",
      "gbr took 0.07436303695042928 minutes to complete\n",
      "gbr took 0.09542317390441894 minutes to complete\n",
      "gbr took 0.0978408137957255 minutes to complete\n",
      "gbr took 0.0916189988454183 minutes to complete\n",
      "gbr took 0.09094372193018595 minutes to complete\n",
      "gbr took 0.10617053906122843 minutes to complete\n",
      "gbr took 0.08652750651041667 minutes to complete\n",
      "gbr took 0.09535210927327474 minutes to complete\n",
      "gbr took 0.09063053925832112 minutes to complete\n",
      "gbr took 0.09060432116190592 minutes to complete\n",
      "gbr took 0.09213116566340128 minutes to complete\n",
      "gbr took 0.08987748225529989 minutes to complete\n",
      "gbr took 0.07379863659540813 minutes to complete\n",
      "gbr took 0.05652986367543538 minutes to complete\n",
      "gbr took 0.06422677834828695 minutes to complete\n"
     ]
    }
   ],
   "source": [
    "model_spec_list=[\n",
    "    #{'lasso':{'max_poly_deg':5,'fit_intercept':False}},\n",
    "    {'gbr':{\n",
    "        'kwargs':{},#these pass through to sklearn's gbr\n",
    "            #'n_estimators':10000,\n",
    "            #'subsample':1,\n",
    "            #'max_depth':3\n",
    "            }},\n",
    "    #{'lin-reg':{'max_poly_deg':5,'fit_intercept':False}},\n",
    "]\n",
    "for model_spec in model_spec_list:\n",
    "    try:\n",
    "        cc=CC(model_specs=model_spec)\n",
    "        print('modeldict',cc.modeldict)\n",
    "        cc.runBigModel()\n",
    "        cc.plotGeoTestData(plot_negative=False)\n",
    "        cc.plotGeoTestData(plot_negative=True)\n",
    "        print('complete')\n",
    "    except:\n",
    "        print(format_exc())\n",
    "        assert False,'halt'\n"
   ]
  },
  {
   "cell_type": "code",
   "execution_count": null,
   "metadata": {},
   "outputs": [],
   "source": [
    "-"
   ]
  },
  {
   "cell_type": "code",
   "execution_count": null,
   "metadata": {},
   "outputs": [],
   "source": [
    "cc.eco.dissolve(by='section').plot(color='lightgrey')"
   ]
  },
  {
   "cell_type": "code",
   "execution_count": null,
   "metadata": {},
   "outputs": [],
   "source": [
    "rocky_bool=cc.eco.loc[:,'division']=='ROCKY MOUNTAIN SYSTEM'\n",
    "cc.eco[rocky_bool]"
   ]
  },
  {
   "cell_type": "code",
   "execution_count": null,
   "metadata": {},
   "outputs": [],
   "source": [
    "eco=cc.eco.copy()\n",
    "geog='section'\n",
    "bigger_geog='province'\n",
    "eco.loc[:,geog].fillna(eco.loc[:,bigger_geog],inplace=True)\n",
    "eco"
   ]
  },
  {
   "cell_type": "code",
   "execution_count": null,
   "metadata": {},
   "outputs": [],
   "source": [
    "new=cc.eco[null_bool].loc[:,bigger_geog]\n"
   ]
  },
  {
   "cell_type": "code",
   "execution_count": null,
   "metadata": {},
   "outputs": [],
   "source": [
    "cc.eco[null_bool].loc[:,bigger_geog]"
   ]
  },
  {
   "cell_type": "code",
   "execution_count": null,
   "metadata": {},
   "outputs": [],
   "source": [
    "#null_bool=cc.eco.loc[:,geog].isnull()\n",
    "cc.eco[null_bool]"
   ]
  },
  {
   "cell_type": "code",
   "execution_count": null,
   "metadata": {},
   "outputs": [],
   "source": [
    "cc.eco[cc.eco.loc[:,geog].isnull()]"
   ]
  },
  {
   "cell_type": "code",
   "execution_count": null,
   "metadata": {},
   "outputs": [],
   "source": [
    "cc.eco_geog[cc.eco_geog.loc[:,'division']=='ROCKY MOUNTAIN SYSTEM']"
   ]
  },
  {
   "cell_type": "code",
   "execution_count": null,
   "metadata": {},
   "outputs": [],
   "source": [
    "cc.dc.big_x_train"
   ]
  },
  {
   "cell_type": "code",
   "execution_count": null,
   "metadata": {},
   "outputs": [],
   "source": [
    "cc.dc.big_x_train.index.get_level_values('comid').unique().to_list()"
   ]
  },
  {
   "cell_type": "code",
   "execution_count": null,
   "metadata": {},
   "outputs": [],
   "source": [
    "for m in cc.dc.model_results['gbr']:\n",
    "    with open(m,'rb') as f:\n",
    "        model=pickle.load(f)\n",
    "    print(len(model.train_comids))"
   ]
  },
  {
   "cell_type": "code",
   "execution_count": null,
   "metadata": {},
   "outputs": [],
   "source": [
    "print(len(cc.dc.comid_modeling_objects))\n",
    "for obj in cc.dc.comid_modeling_objects[:100]:\n",
    "    print(obj.test_results['gbr'])\n",
    "          "
   ]
  },
  {
   "cell_type": "code",
   "execution_count": null,
   "metadata": {},
   "outputs": [],
   "source": [
    "assert False,'stop'"
   ]
  },
  {
   "cell_type": "code",
   "execution_count": null,
   "metadata": {},
   "outputs": [],
   "source": [
    "cc.dc.model_results"
   ]
  },
  {
   "cell_type": "code",
   "execution_count": null,
   "metadata": {},
   "outputs": [],
   "source": [
    "for obj in cc.dc.comid_modeling_objects:\n",
    "    for m_name, results_list in obj.test_results.items():\n",
    "        print(m_name,'result len:',len(results_list))\n",
    "        for result in results_list:\n",
    "            print(m_name,result)"
   ]
  },
  {
   "cell_type": "code",
   "execution_count": null,
   "metadata": {},
   "outputs": [],
   "source": [
    "cc.dc.big_y_train.loc[20867042]"
   ]
  },
  {
   "cell_type": "code",
   "execution_count": null,
   "metadata": {},
   "outputs": [],
   "source": [
    "-"
   ]
  },
  {
   "cell_type": "code",
   "execution_count": null,
   "metadata": {},
   "outputs": [],
   "source": [
    "cc.dc.onehot.transform(cc.dc.big_x_train_raw.loc[:,cc.dc.obj_cols])"
   ]
  },
  {
   "cell_type": "code",
   "execution_count": null,
   "metadata": {},
   "outputs": [],
   "source": [
    "cc.dc.onehot.get_feature_names(cc.dc.obj_cols)"
   ]
  },
  {
   "cell_type": "code",
   "execution_count": null,
   "metadata": {},
   "outputs": [],
   "source": [
    "list(cc.dc.big_x_train_raw.dtypes.items())"
   ]
  },
  {
   "cell_type": "code",
   "execution_count": null,
   "metadata": {},
   "outputs": [],
   "source": [
    "cc.dc.comid_data_object_dict[5879121].runoff_model_data_df"
   ]
  },
  {
   "cell_type": "code",
   "execution_count": null,
   "metadata": {},
   "outputs": [],
   "source": [
    "cc.dc.comid_geog_dict"
   ]
  },
  {
   "cell_type": "code",
   "execution_count": null,
   "metadata": {},
   "outputs": [],
   "source": [
    "import numpy as np\n",
    "import pandas as pd"
   ]
  },
  {
   "cell_type": "code",
   "execution_count": null,
   "metadata": {},
   "outputs": [],
   "source": []
  },
  {
   "cell_type": "code",
   "execution_count": null,
   "metadata": {},
   "outputs": [],
   "source": [
    "cc.comid_physio[cc.comid_physio.loc[:,'section'].isna()].to_csv('missing_section.csv')"
   ]
  },
  {
   "cell_type": "code",
   "execution_count": null,
   "metadata": {},
   "outputs": [],
   "source": [
    "cc.comid_physio.isnull().any(axis=0)"
   ]
  },
  {
   "cell_type": "code",
   "execution_count": null,
   "metadata": {},
   "outputs": [],
   "source": [
    "cc.modeldict['filter']='nonzero'\n",
    "cc.modeldict"
   ]
  },
  {
   "cell_type": "code",
   "execution_count": null,
   "metadata": {},
   "outputs": [],
   "source": [
    "cc.runModelCorrection(try_load=False)"
   ]
  },
  {
   "cell_type": "code",
   "execution_count": null,
   "metadata": {},
   "outputs": [],
   "source": [
    "cc.modeldict['filter']='none'\n",
    "cc.runModelCorrection(try_load=False)"
   ]
  }
 ],
 "metadata": {
  "kernelspec": {
   "display_name": "Python 3",
   "language": "python",
   "name": "python3"
  },
  "language_info": {
   "codemirror_mode": {
    "name": "ipython",
    "version": 3
   },
   "file_extension": ".py",
   "mimetype": "text/x-python",
   "name": "python",
   "nbconvert_exporter": "python",
   "pygments_lexer": "ipython3",
   "version": "3.8.6"
  }
 },
 "nbformat": 4,
 "nbformat_minor": 4
}
