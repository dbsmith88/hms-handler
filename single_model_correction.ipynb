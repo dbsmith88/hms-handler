{
 "cells": [
  {
   "cell_type": "code",
   "execution_count": 1,
   "metadata": {},
   "outputs": [
    {
     "data": {
      "text/plain": [
       "'/home/dp/gits2/hms-handler'"
      ]
     },
     "execution_count": 1,
     "metadata": {},
     "output_type": "execute_result"
    }
   ],
   "source": [
    "import os;os.getcwd()\n"
   ]
  },
  {
   "cell_type": "code",
   "execution_count": 1,
   "metadata": {},
   "outputs": [],
   "source": [
    "from cn_correct import CompareCorrect as CC"
   ]
  },
  {
   "cell_type": "code",
   "execution_count": 3,
   "metadata": {},
   "outputs": [],
   "source": [
    "from warnings import filterwarnings\n",
    "filterwarnings('ignore')"
   ]
  },
  {
   "cell_type": "code",
   "execution_count": 4,
   "metadata": {},
   "outputs": [],
   "source": [
    "cc=CC()"
   ]
  },
  {
   "cell_type": "code",
   "execution_count": null,
   "metadata": {},
   "outputs": [
    {
     "name": "stdout",
     "output_type": "stream",
     "text": [
      "running big model\n",
      "section\n",
      "gbr took 0.4513092120488485 minutes to complete\n",
      "gbr took 0.3770108501116435 minutes to complete\n",
      "gbr took 0.3747119426727295 minutes to complete\n",
      "gbr took 0.3692664543787638 minutes to complete\n",
      "gbr took 0.36547725200653075 minutes to complete\n",
      "gbr took 0.36333781480789185 minutes to complete\n",
      "gbr took 0.3525486429532369 minutes to complete\n",
      "gbr took 0.3767551302909851 minutes to complete\n",
      "gbr took 0.36056168874104816 minutes to complete\n",
      "gbr took 0.3701500535011292 minutes to complete\n",
      "gbr took 0.36408578952153525 minutes to complete\n",
      "gbr took 0.37702436447143556 minutes to complete\n",
      "gbr took 0.37749229272206625 minutes to complete\n",
      "gbr took 0.3670616428057353 minutes to complete\n",
      "gbr took 0.37902807792027793 minutes to complete\n",
      "gbr took 0.3851203918457031 minutes to complete\n",
      "gbr took 0.35793298880259194 minutes to complete\n",
      "gbr took 0.36778892676035563 minutes to complete\n",
      "gbr took 0.3664063254992167 minutes to complete\n",
      "gbr took 0.39050958553949994 minutes to complete\n",
      "gbr took 0.3645421743392944 minutes to complete\n",
      "gbr took 0.36921942631403604 minutes to complete\n",
      "gbr took 0.3711118539174398 minutes to complete\n",
      "gbr took 0.3627427458763123 minutes to complete\n",
      "gbr took 0.38830295006434123 minutes to complete\n",
      "gbr took 0.3755279978116353 minutes to complete\n",
      "gbr took 0.36778525908788046 minutes to complete\n",
      "gbr took 0.37541056871414186 minutes to complete\n",
      "gbr took 0.37612175941467285 minutes to complete\n",
      "gbr took 0.36010079383850097 minutes to complete\n",
      "gbr took 0.39190839529037474 minutes to complete\n",
      "gbr took 0.37257374127705895 minutes to complete\n",
      "gbr took 0.3630816340446472 minutes to complete\n",
      "gbr took 0.37830861409505206 minutes to complete\n",
      "gbr took 0.3721915443738302 minutes to complete\n",
      "gbr took 0.3774917165438334 minutes to complete\n",
      "gbr took 0.3801954507827759 minutes to complete\n",
      "gbr took 0.3778183897336324 minutes to complete\n",
      "gbr took 0.36645254691441853 minutes to complete\n",
      "gbr took 0.3935738285382589 minutes to complete\n",
      "gbr took 0.3577324032783508 minutes to complete\n",
      "gbr took 0.3742850343386332 minutes to complete\n",
      "gbr took 0.37154732942581176 minutes to complete\n",
      "gbr took 0.3741303046544393 minutes to complete\n",
      "gbr took 0.37504786252975464 minutes to complete\n",
      "gbr took 0.35665967464447024 minutes to complete\n",
      "gbr took 0.3591009537378947 minutes to complete\n",
      "gbr took 0.3817025621732076 minutes to complete\n",
      "gbr took 0.38004834254582726 minutes to complete\n",
      "gbr took 0.3603338917096456 minutes to complete\n",
      "gbr took 0.34943527380625405 minutes to complete\n",
      "gbr took 0.3614516536394755 minutes to complete\n",
      "gbr took 0.34988945722579956 minutes to complete\n",
      "gbr took 0.3711761991182963 minutes to complete\n",
      "gbr took 0.3685466766357422 minutes to complete\n",
      "gbr took 0.37819324334462484 minutes to complete\n",
      "gbr took 0.36764686107635497 minutes to complete\n",
      "gbr took 0.361309556166331 minutes to complete\n",
      "gbr took 0.38910105228424074 minutes to complete\n",
      "gbr took 0.3825090686480204 minutes to complete\n",
      "gbr took 0.3901887059211731 minutes to complete\n",
      "gbr took 0.37528305451075233 minutes to complete\n",
      "gbr took 0.36145538489023843 minutes to complete\n",
      "gbr took 0.3596377491950989 minutes to complete\n",
      "gbr took 0.3650578061739604 minutes to complete\n",
      "gbr took 0.3570505221684774 minutes to complete\n",
      "gbr took 0.3506020188331604 minutes to complete\n",
      "gbr took 0.3763757348060608 minutes to complete\n",
      "gbr took 0.3774256229400635 minutes to complete\n",
      "gbr took 0.37201362450917563 minutes to complete\n",
      "gbr took 0.3657487829526265 minutes to complete\n",
      "gbr took 0.38426029284795127 minutes to complete\n",
      "gbr took 0.3897514224052429 minutes to complete\n",
      "gbr took 0.3709975401560465 minutes to complete\n",
      "gbr took 0.3699924826622009 minutes to complete\n",
      "gbr took 0.3662458260854085 minutes to complete\n",
      "gbr took 0.3686902483304342 minutes to complete\n",
      "gbr took 0.3570673704147339 minutes to complete\n",
      "gbr took 0.3721019665400187 minutes to complete\n",
      "gbr took 0.35952057043711344 minutes to complete\n",
      "gbr took 0.37965433597564696 minutes to complete\n",
      "gbr took 0.354190464814504 minutes to complete\n",
      "gbr took 0.37824891408284506 minutes to complete\n",
      "gbr took 0.37860358953475953 minutes to complete\n",
      "gbr took 0.3579063574473063 minutes to complete\n",
      "gbr took 0.35790831247965493 minutes to complete\n",
      "gbr took 0.36557645797729493 minutes to complete\n",
      "gbr took 0.3629868944485982 minutes to complete\n",
      "gbr took 0.3620548605918884 minutes to complete\n",
      "gbr took 0.3522800922393799 minutes to complete\n",
      "gbr took 0.3550143520037333 minutes to complete\n",
      "gbr took 0.349000092347463 minutes to complete\n",
      "gbr took 0.35680925051371254 minutes to complete\n",
      "gbr took 0.36025001605351764 minutes to complete\n",
      "gbr took 0.3428658882776896 minutes to complete\n",
      "gbr took 0.36198320786158245 minutes to complete\n",
      "gbr took 0.37124197085698446 minutes to complete\n",
      "gbr took 0.34303922255833946 minutes to complete\n",
      "gbr took 0.35733823776245116 minutes to complete\n",
      "gbr took 0.3527258634567261 minutes to complete\n",
      "gbr took 0.37238189776738484 minutes to complete\n",
      "gbr took 0.3486656983693441 minutes to complete\n",
      "gbr took 0.3726882815361023 minutes to complete\n",
      "gbr took 0.3498860001564026 minutes to complete\n",
      "gbr took 0.3523972749710083 minutes to complete\n",
      "gbr took 0.36190817356109617 minutes to complete\n",
      "gbr took 0.35411110719045 minutes to complete\n",
      "gbr took 0.3656219164530436 minutes to complete\n",
      "gbr took 0.3715741316477458 minutes to complete\n",
      "gbr took 0.3653738697369893 minutes to complete\n",
      "gbr took 0.35319364865620934 minutes to complete\n",
      "gbr took 0.3722870747248332 minutes to complete\n",
      "gbr took 0.3571465293566386 minutes to complete\n",
      "gbr took 0.36390159527460736 minutes to complete\n",
      "gbr took 0.36348421573638917 minutes to complete\n",
      "gbr took 0.35863275130589806 minutes to complete\n",
      "gbr took 0.3554920037587484 minutes to complete\n",
      "gbr took 0.34986469745635984 minutes to complete\n",
      "gbr took 0.3759463707605998 minutes to complete\n",
      "gbr took 0.35716676712036133 minutes to complete\n",
      "gbr took 0.3727547605832418 minutes to complete\n",
      "gbr took 0.3778540015220642 minutes to complete\n",
      "gbr took 0.3709126551946004 minutes to complete\n",
      "gbr took 0.3536061485608419 minutes to complete\n",
      "gbr took 0.3688937743504842 minutes to complete\n",
      "gbr took 0.3591707189877828 minutes to complete\n",
      "gbr took 0.36282767057418824 minutes to complete\n",
      "gbr took 0.3819309830665588 minutes to complete\n",
      "gbr took 0.3483716289202372 minutes to complete\n",
      "gbr took 0.349020258585612 minutes to complete\n",
      "gbr took 0.35773847897847494 minutes to complete\n",
      "gbr took 0.3744015296300252 minutes to complete\n",
      "gbr took 0.3598776936531067 minutes to complete\n",
      "gbr took 0.35654627879460654 minutes to complete\n",
      "gbr took 0.347601322333018 minutes to complete\n",
      "gbr took 0.36588128805160525 minutes to complete\n",
      "gbr took 0.3734668572743734 minutes to complete\n",
      "gbr took 0.36072423855463664 minutes to complete\n",
      "gbr took 0.35276896953582765 minutes to complete\n",
      "gbr took 0.36462426582972207 minutes to complete\n",
      "gbr took 0.3590633710225423 minutes to complete\n",
      "gbr took 0.3696415583292643 minutes to complete\n",
      "gbr took 0.3585757215817769 minutes to complete\n",
      "gbr took 0.3674612283706665 minutes to complete\n",
      "gbr took 0.36779330571492513 minutes to complete\n",
      "gbr took 0.36056228081385294 minutes to complete\n",
      "gbr took 0.33944382270177204 minutes to complete\n",
      "gbr took 0.3612111608187358 minutes to complete\n",
      "gbr took 0.37096475760142006 minutes to complete\n",
      "gbr took 0.3552337129910787 minutes to complete\n",
      "gbr took 0.3606868823369344 minutes to complete\n",
      "gbr took 0.36072734196980794 minutes to complete\n",
      "gbr took 0.35668416023254396 minutes to complete\n",
      "gbr took 0.3674277385075887 minutes to complete\n",
      "gbr took 0.3470268805821737 minutes to complete\n",
      "gbr took 0.36326547066370646 minutes to complete\n",
      "gbr took 0.3606921911239624 minutes to complete\n",
      "gbr took 0.3599501371383667 minutes to complete\n",
      "gbr took 0.3418274720509847 minutes to complete\n",
      "gbr took 0.3592294176419576 minutes to complete\n",
      "gbr took 0.3785280227661133 minutes to complete\n",
      "gbr took 0.3588481465975443 minutes to complete\n"
     ]
    }
   ],
   "source": [
    "cc.runBigModel()\n"
   ]
  },
  {
   "cell_type": "code",
   "execution_count": null,
   "metadata": {},
   "outputs": [],
   "source": [
    "-"
   ]
  },
  {
   "cell_type": "code",
   "execution_count": null,
   "metadata": {},
   "outputs": [],
   "source": [
    "cc.dc.model_results"
   ]
  },
  {
   "cell_type": "code",
   "execution_count": null,
   "metadata": {},
   "outputs": [],
   "source": [
    "for obj in cc.dc.comid_modeling_objects:\n",
    "    for m_name, results_list in obj.test_results.items():\n",
    "        print(m_name,'result len:',len(results_list))\n",
    "        for result in results_list:\n",
    "            print(m_name,result)"
   ]
  },
  {
   "cell_type": "code",
   "execution_count": null,
   "metadata": {},
   "outputs": [],
   "source": [
    "cc.dc.big_y_train.loc[20867042]"
   ]
  },
  {
   "cell_type": "code",
   "execution_count": null,
   "metadata": {},
   "outputs": [],
   "source": [
    "-"
   ]
  },
  {
   "cell_type": "code",
   "execution_count": null,
   "metadata": {},
   "outputs": [],
   "source": [
    "cc.dc.onehot.transform(cc.dc.big_x_train_raw.loc[:,cc.dc.obj_cols])"
   ]
  },
  {
   "cell_type": "code",
   "execution_count": null,
   "metadata": {},
   "outputs": [],
   "source": [
    "cc.dc.onehot.get_feature_names(cc.dc.obj_cols)"
   ]
  },
  {
   "cell_type": "code",
   "execution_count": null,
   "metadata": {},
   "outputs": [],
   "source": [
    "list(cc.dc.big_x_train_raw.dtypes.items())"
   ]
  },
  {
   "cell_type": "code",
   "execution_count": null,
   "metadata": {},
   "outputs": [],
   "source": [
    "cc.dc.comid_data_object_dict[5879121].runoff_model_data_df"
   ]
  },
  {
   "cell_type": "code",
   "execution_count": null,
   "metadata": {},
   "outputs": [],
   "source": [
    "cc.dc.comid_geog_dict"
   ]
  },
  {
   "cell_type": "code",
   "execution_count": null,
   "metadata": {},
   "outputs": [],
   "source": [
    "import numpy as np\n",
    "import pandas as pd"
   ]
  },
  {
   "cell_type": "code",
   "execution_count": null,
   "metadata": {},
   "outputs": [],
   "source": []
  },
  {
   "cell_type": "code",
   "execution_count": null,
   "metadata": {},
   "outputs": [],
   "source": [
    "cc.comid_physio[cc.comid_physio.loc[:,'section'].isna()].to_csv('missing_section.csv')"
   ]
  },
  {
   "cell_type": "code",
   "execution_count": null,
   "metadata": {},
   "outputs": [],
   "source": [
    "cc.comid_physio.isnull().any(axis=0)"
   ]
  },
  {
   "cell_type": "code",
   "execution_count": null,
   "metadata": {},
   "outputs": [],
   "source": [
    "cc.modeldict['filter']='nonzero'\n",
    "cc.modeldict"
   ]
  },
  {
   "cell_type": "code",
   "execution_count": null,
   "metadata": {},
   "outputs": [],
   "source": [
    "cc.runModelCorrection(try_load=False)"
   ]
  },
  {
   "cell_type": "code",
   "execution_count": null,
   "metadata": {},
   "outputs": [],
   "source": [
    "cc.modeldict['filter']='none'\n",
    "cc.runModelCorrection(try_load=False)"
   ]
  }
 ],
 "metadata": {
  "kernelspec": {
   "display_name": "Python 3",
   "language": "python",
   "name": "python3"
  },
  "language_info": {
   "codemirror_mode": {
    "name": "ipython",
    "version": 3
   },
   "file_extension": ".py",
   "mimetype": "text/x-python",
   "name": "python",
   "nbconvert_exporter": "python",
   "pygments_lexer": "ipython3",
   "version": "3.8.6"
  }
 },
 "nbformat": 4,
 "nbformat_minor": 4
}
