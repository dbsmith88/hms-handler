{
 "cells": [
  {
   "cell_type": "code",
   "execution_count": 1,
   "metadata": {},
   "outputs": [
    {
     "data": {
      "text/plain": [
       "'/home/dp/gits/hms-handler'"
      ]
     },
     "execution_count": 1,
     "metadata": {},
     "output_type": "execute_result"
    }
   ],
   "source": [
    "import os;os.getcwd()\n"
   ]
  },
  {
   "cell_type": "code",
   "execution_count": 2,
   "metadata": {},
   "outputs": [],
   "source": [
    "from cn_correct import CompareCorrect as CC"
   ]
  },
  {
   "cell_type": "code",
   "execution_count": 3,
   "metadata": {},
   "outputs": [],
   "source": [
    "from warnings import filterwarnings\n",
    "filterwarnings('ignore')"
   ]
  },
  {
   "cell_type": "code",
   "execution_count": 4,
   "metadata": {},
   "outputs": [],
   "source": [
    "cc=CC()"
   ]
  },
  {
   "cell_type": "code",
   "execution_count": 5,
   "metadata": {},
   "outputs": [
    {
     "name": "stdout",
     "output_type": "stream",
     "text": [
      "running big model\n",
      "lin-reg took 0.12025556166966757 minutes to complete\n",
      "lasso took 0.14627421696980794 minutes to complete\n",
      "gbr took 0.20222518841425577 minutes to complete\n"
     ]
    }
   ],
   "source": [
    "cc.runBigModel()\n"
   ]
  },
  {
   "cell_type": "code",
   "execution_count": 6,
   "metadata": {},
   "outputs": [
    {
     "ename": "SyntaxError",
     "evalue": "invalid syntax (<ipython-input-6-60215a10e730>, line 1)",
     "output_type": "error",
     "traceback": [
      "\u001b[0;36m  File \u001b[0;32m\"<ipython-input-6-60215a10e730>\"\u001b[0;36m, line \u001b[0;32m1\u001b[0m\n\u001b[0;31m    -\u001b[0m\n\u001b[0m     ^\u001b[0m\n\u001b[0;31mSyntaxError\u001b[0m\u001b[0;31m:\u001b[0m invalid syntax\n"
     ]
    }
   ],
   "source": [
    "-"
   ]
  },
  {
   "cell_type": "code",
   "execution_count": 7,
   "metadata": {},
   "outputs": [
    {
     "name": "stdout",
     "output_type": "stream",
     "text": [
      "lin-reg 0.6690395414992898\n",
      "lasso 0.6453278627091207\n",
      "gbr -0.025312626415377126\n",
      "lin-reg 0.8253129103674943\n",
      "lasso 0.8287467025104929\n",
      "gbr 0.5048310902460856\n",
      "lin-reg 0.2257241847288165\n",
      "lasso 0.2627564129905856\n",
      "gbr -6.037426814185317\n",
      "lin-reg 0.6760419754123772\n",
      "lasso 0.7137820215522697\n",
      "gbr -7.424785674318343\n",
      "lin-reg 0.1949956216308788\n",
      "lasso 0.18809943726865652\n",
      "gbr -0.04030747375752375\n",
      "lin-reg 0.07768682917895564\n",
      "lasso 0.07692366483396262\n",
      "gbr 0.07377050022798981\n",
      "lin-reg 0.048558269187969905\n",
      "lasso 0.04790236887865473\n",
      "gbr 0.018186078549360496\n",
      "lin-reg 0.2672686296108394\n",
      "lasso 0.2474691812776112\n",
      "gbr 0.16248662891462384\n",
      "lin-reg 0.06328441197449286\n",
      "lasso 0.059706676572952366\n",
      "gbr 0.0013277599167610399\n"
     ]
    }
   ],
   "source": [
    "for obj in cc.dc.comid_modeling_objects:\n",
    "    for m_name, results in obj.test_results.items():\n",
    "        print(m_name,results['test_stats'].nse)"
   ]
  },
  {
   "cell_type": "code",
   "execution_count": null,
   "metadata": {},
   "outputs": [],
   "source": [
    "cc.dc.big_y_train.loc[20867042]"
   ]
  },
  {
   "cell_type": "code",
   "execution_count": null,
   "metadata": {},
   "outputs": [],
   "source": [
    "-"
   ]
  },
  {
   "cell_type": "code",
   "execution_count": null,
   "metadata": {},
   "outputs": [],
   "source": [
    "cc.dc.onehot.transform(cc.dc.big_x_train_raw.loc[:,cc.dc.obj_cols])"
   ]
  },
  {
   "cell_type": "code",
   "execution_count": null,
   "metadata": {},
   "outputs": [],
   "source": [
    "cc.dc.onehot.get_feature_names(cc.dc.obj_cols)"
   ]
  },
  {
   "cell_type": "code",
   "execution_count": null,
   "metadata": {},
   "outputs": [],
   "source": [
    "list(cc.dc.big_x_train_raw.dtypes.items())"
   ]
  },
  {
   "cell_type": "code",
   "execution_count": null,
   "metadata": {},
   "outputs": [],
   "source": [
    "cc.dc.comid_data_object_dict[5879121].runoff_model_data_df"
   ]
  },
  {
   "cell_type": "code",
   "execution_count": null,
   "metadata": {},
   "outputs": [],
   "source": [
    "cc.dc.comid_geog_dict"
   ]
  },
  {
   "cell_type": "code",
   "execution_count": null,
   "metadata": {},
   "outputs": [],
   "source": [
    "import numpy as np\n",
    "import pandas as pd"
   ]
  },
  {
   "cell_type": "code",
   "execution_count": null,
   "metadata": {},
   "outputs": [],
   "source": []
  },
  {
   "cell_type": "code",
   "execution_count": null,
   "metadata": {},
   "outputs": [],
   "source": [
    "cc.comid_physio[cc.comid_physio.loc[:,'section'].isna()].to_csv('missing_section.csv')"
   ]
  },
  {
   "cell_type": "code",
   "execution_count": null,
   "metadata": {},
   "outputs": [],
   "source": [
    "cc.comid_physio.isnull().any(axis=0)"
   ]
  },
  {
   "cell_type": "code",
   "execution_count": null,
   "metadata": {},
   "outputs": [],
   "source": [
    "cc.modeldict['filter']='nonzero'\n",
    "cc.modeldict"
   ]
  },
  {
   "cell_type": "code",
   "execution_count": null,
   "metadata": {},
   "outputs": [],
   "source": [
    "cc.runModelCorrection(try_load=False)"
   ]
  },
  {
   "cell_type": "code",
   "execution_count": null,
   "metadata": {},
   "outputs": [],
   "source": [
    "cc.modeldict['filter']='none'\n",
    "cc.runModelCorrection(try_load=False)"
   ]
  }
 ],
 "metadata": {
  "kernelspec": {
   "display_name": "Python 3",
   "language": "python",
   "name": "python3"
  },
  "language_info": {
   "codemirror_mode": {
    "name": "ipython",
    "version": 3
   },
   "file_extension": ".py",
   "mimetype": "text/x-python",
   "name": "python",
   "nbconvert_exporter": "python",
   "pygments_lexer": "ipython3",
   "version": "3.8.6"
  }
 },
 "nbformat": 4,
 "nbformat_minor": 4
}
