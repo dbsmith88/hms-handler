{
 "cells": [
  {
   "cell_type": "code",
   "execution_count": 1,
   "metadata": {},
   "outputs": [],
   "source": [
    "import os;os.getcwd()\n",
    "from traceback import format_exc"
   ]
  },
  {
   "cell_type": "code",
   "execution_count": 2,
   "metadata": {},
   "outputs": [],
   "source": [
    "from cn_correct import CompareCorrect as CC"
   ]
  },
  {
   "cell_type": "code",
   "execution_count": 3,
   "metadata": {},
   "outputs": [],
   "source": [
    "from warnings import filterwarnings\n",
    "filterwarnings('ignore')"
   ]
  },
  {
   "cell_type": "code",
   "execution_count": 4,
   "metadata": {},
   "outputs": [],
   "source": [
    "cc=CC()"
   ]
  },
  {
   "cell_type": "code",
   "execution_count": null,
   "metadata": {},
   "outputs": [
    {
     "name": "stdout",
     "output_type": "stream",
     "text": [
      "modeldict {'cross_validate': {'n_reps': 3, 'strategy': 'leave_one_member_out'}, 'model_geog': 'section', 'sources': {'observed': 'nldas', 'modeled': 'cn'}, 'filter': 'nonzero', 'train_share': 0.8, 'split_order': 'chronological', 'model_scale': 'division', 'model_specs': {'lasso': {'max_poly_deg': 3, 'fit_intercept': False}}}\n",
      "running big model\n",
      "lasso took 0.007642785708109538 minutes to complete\n",
      "lasso took 0.004259963830312093 minutes to complete\n",
      "lasso took 0.004446339607238769 minutes to complete\n",
      "lasso took 0.006393901507059733 minutes to complete\n",
      "lasso took 0.006242187817891439 minutes to complete\n",
      "lasso took 0.007048662503560384 minutes to complete\n",
      "lasso took 0.004716142018636068 minutes to complete\n",
      "lasso took 0.0061361432075500485 minutes to complete\n",
      "lasso took 0.00637745459874471 minutes to complete\n",
      "running big model\n"
     ]
    }
   ],
   "source": [
    "model_spec_list=[\n",
    "    #{'gbr':{\n",
    "    #   'kwargs':{},#these pass through to sklearn's gbr\n",
    "            #'n_estimators':10000,\n",
    "            #'subsample':1,\n",
    "            #'max_depth':3\n",
    "    #        }},\n",
    "    #{'lin-reg':{'max_poly_deg':3,'fit_intercept':False}},\n",
    "    {'lasso':{'max_poly_deg':3,'fit_intercept':False}},\n",
    "]\n",
    "for model_spec in model_spec_list:\n",
    "    try:\n",
    "        cc=CC()\n",
    "        cc.modeldict['model_specs']=model_spec\n",
    "        print('modeldict',cc.modeldict)\n",
    "        cc.runBigModel()\n",
    "        print('complete')\n",
    "    except:\n",
    "        print(format_exc())\n"
   ]
  },
  {
   "cell_type": "code",
   "execution_count": 1,
   "metadata": {},
   "outputs": [
    {
     "ename": "NameError",
     "evalue": "name 'cc' is not defined",
     "output_type": "error",
     "traceback": [
      "\u001b[0;31m---------------------------------------------------------------------------\u001b[0m",
      "\u001b[0;31mNameError\u001b[0m                                 Traceback (most recent call last)",
      "\u001b[0;32m<ipython-input-1-1e07cdd78bf4>\u001b[0m in \u001b[0;36m<module>\u001b[0;34m\u001b[0m\n\u001b[0;32m----> 1\u001b[0;31m \u001b[0mcc\u001b[0m\u001b[0;34m.\u001b[0m\u001b[0mdc\u001b[0m\u001b[0;34m.\u001b[0m\u001b[0mbig_x_train\u001b[0m\u001b[0;34m\u001b[0m\u001b[0;34m\u001b[0m\u001b[0m\n\u001b[0m",
      "\u001b[0;31mNameError\u001b[0m: name 'cc' is not defined"
     ]
    }
   ],
   "source": [
    "cc.dc.big_x_train"
   ]
  },
  {
   "cell_type": "code",
   "execution_count": null,
   "metadata": {},
   "outputs": [],
   "source": [
    "cc.dc.big_x_train.index.get_level_values('comid').unique().to_list()"
   ]
  },
  {
   "cell_type": "code",
   "execution_count": null,
   "metadata": {},
   "outputs": [],
   "source": [
    "for m in cc.dc.model_results['gbr']:\n",
    "    with open(m,'rb') as f:\n",
    "        model=pickle.load(f)\n",
    "    print(len(model.train_comids))"
   ]
  },
  {
   "cell_type": "code",
   "execution_count": null,
   "metadata": {},
   "outputs": [],
   "source": [
    "print(len(cc.dc.comid_modeling_objects))\n",
    "for obj in cc.dc.comid_modeling_objects[:100]:\n",
    "    print(obj.test_results['gbr'])\n",
    "          "
   ]
  },
  {
   "cell_type": "code",
   "execution_count": null,
   "metadata": {},
   "outputs": [],
   "source": [
    "assert False,'stop'"
   ]
  },
  {
   "cell_type": "code",
   "execution_count": null,
   "metadata": {},
   "outputs": [],
   "source": [
    "cc.dc.model_results"
   ]
  },
  {
   "cell_type": "code",
   "execution_count": null,
   "metadata": {},
   "outputs": [],
   "source": [
    "for obj in cc.dc.comid_modeling_objects:\n",
    "    for m_name, results_list in obj.test_results.items():\n",
    "        print(m_name,'result len:',len(results_list))\n",
    "        for result in results_list:\n",
    "            print(m_name,result)"
   ]
  },
  {
   "cell_type": "code",
   "execution_count": null,
   "metadata": {},
   "outputs": [],
   "source": [
    "cc.dc.big_y_train.loc[20867042]"
   ]
  },
  {
   "cell_type": "code",
   "execution_count": null,
   "metadata": {},
   "outputs": [],
   "source": [
    "-"
   ]
  },
  {
   "cell_type": "code",
   "execution_count": null,
   "metadata": {},
   "outputs": [],
   "source": [
    "cc.dc.onehot.transform(cc.dc.big_x_train_raw.loc[:,cc.dc.obj_cols])"
   ]
  },
  {
   "cell_type": "code",
   "execution_count": null,
   "metadata": {},
   "outputs": [],
   "source": [
    "cc.dc.onehot.get_feature_names(cc.dc.obj_cols)"
   ]
  },
  {
   "cell_type": "code",
   "execution_count": null,
   "metadata": {},
   "outputs": [],
   "source": [
    "list(cc.dc.big_x_train_raw.dtypes.items())"
   ]
  },
  {
   "cell_type": "code",
   "execution_count": null,
   "metadata": {},
   "outputs": [],
   "source": [
    "cc.dc.comid_data_object_dict[5879121].runoff_model_data_df"
   ]
  },
  {
   "cell_type": "code",
   "execution_count": null,
   "metadata": {},
   "outputs": [],
   "source": [
    "cc.dc.comid_geog_dict"
   ]
  },
  {
   "cell_type": "code",
   "execution_count": null,
   "metadata": {},
   "outputs": [],
   "source": [
    "import numpy as np\n",
    "import pandas as pd"
   ]
  },
  {
   "cell_type": "code",
   "execution_count": null,
   "metadata": {},
   "outputs": [],
   "source": []
  },
  {
   "cell_type": "code",
   "execution_count": null,
   "metadata": {},
   "outputs": [],
   "source": [
    "cc.comid_physio[cc.comid_physio.loc[:,'section'].isna()].to_csv('missing_section.csv')"
   ]
  },
  {
   "cell_type": "code",
   "execution_count": null,
   "metadata": {},
   "outputs": [],
   "source": [
    "cc.comid_physio.isnull().any(axis=0)"
   ]
  },
  {
   "cell_type": "code",
   "execution_count": null,
   "metadata": {},
   "outputs": [],
   "source": [
    "cc.modeldict['filter']='nonzero'\n",
    "cc.modeldict"
   ]
  },
  {
   "cell_type": "code",
   "execution_count": null,
   "metadata": {},
   "outputs": [],
   "source": [
    "cc.runModelCorrection(try_load=False)"
   ]
  },
  {
   "cell_type": "code",
   "execution_count": null,
   "metadata": {},
   "outputs": [],
   "source": [
    "cc.modeldict['filter']='none'\n",
    "cc.runModelCorrection(try_load=False)"
   ]
  }
 ],
 "metadata": {
  "kernelspec": {
   "display_name": "Python 3",
   "language": "python",
   "name": "python3"
  },
  "language_info": {
   "codemirror_mode": {
    "name": "ipython",
    "version": 3
   },
   "file_extension": ".py",
   "mimetype": "text/x-python",
   "name": "python",
   "nbconvert_exporter": "python",
   "pygments_lexer": "ipython3",
   "version": "3.8.6"
  }
 },
 "nbformat": 4,
 "nbformat_minor": 4
}
